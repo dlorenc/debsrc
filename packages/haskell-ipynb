Package: haskell-ipynb
Binary: libghc-ipynb-dev, libghc-ipynb-prof, libghc-ipynb-doc
Version: 0.1.0.1-1
Maintainer: Debian Haskell Group <pkg-haskell-maintainers@lists.alioth.debian.org>
Uploaders: Antoine Latter <aslatter@gmail.com>
Build-Depends: debhelper (>= 10), haskell-devscripts-minimal | haskell-devscripts (>= 0.13), cdbs, ghc, ghc-prof, libghc-aeson-dev, libghc-aeson-prof, libghc-base64-bytestring-dev, libghc-base64-bytestring-prof, libghc-unordered-containers-dev, libghc-unordered-containers-prof
Build-Depends-Indep: ghc-doc, libghc-aeson-doc, libghc-base64-bytestring-doc, libghc-unordered-containers-doc
Architecture: any all
Standards-Version: 4.5.0
Format: 3.0 (quilt)
Files:
 d5c7707360e801bd006e74545f9dbd42 2536 haskell-ipynb_0.1.0.1-1.dsc
 919889511c354b69351f13689f1ef193 631919 haskell-ipynb_0.1.0.1.orig.tar.gz
 202debe7294507375e0cda302917960c 2464 haskell-ipynb_0.1.0.1-1.debian.tar.xz
Vcs-Browser: https://salsa.debian.org/haskell-team/DHG_packages/tree/master/p/haskell-ipynb
Vcs-Git: https://salsa.debian.org/haskell-team/DHG_packages.git
Checksums-Sha256:
 01e1c4867ab30a506677a65754df084f3d4d4130fd71a6a6fe198e1cfd29514e 2536 haskell-ipynb_0.1.0.1-1.dsc
 2b7b13bbe685ba753a9cc3d93c7155dfa5403122d72c9ce3ec39e47323f89753 631919 haskell-ipynb_0.1.0.1.orig.tar.gz
 a803a31ceb4323bf051d47c74bc134eaea3b158cf2d751eeff0d76e732b0bd74 2464 haskell-ipynb_0.1.0.1-1.debian.tar.xz
Homepage: https://hackage.haskell.org/package/ipynb
Package-List: 
 libghc-ipynb-dev deb haskell optional arch=any
 libghc-ipynb-doc deb doc optional arch=all
 libghc-ipynb-prof deb haskell optional arch=any
Directory: pool/main/h/haskell-ipynb
Priority: extra
Section: misc
